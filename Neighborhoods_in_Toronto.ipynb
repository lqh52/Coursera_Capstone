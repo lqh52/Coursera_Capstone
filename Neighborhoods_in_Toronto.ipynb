{
  "nbformat": 4,
  "nbformat_minor": 0,
  "metadata": {
    "colab": {
      "name": "Neighborhoods_in_Toronto.ipynb",
      "provenance": [],
      "authorship_tag": "ABX9TyNTVg6ZePqNHadbgtiLp9je",
      "include_colab_link": true
    },
    "kernelspec": {
      "name": "python3",
      "display_name": "Python 3"
    }
  },
  "cells": [
    {
      "cell_type": "markdown",
      "metadata": {
        "id": "view-in-github",
        "colab_type": "text"
      },
      "source": [
        "<a href=\"https://colab.research.google.com/github/lqh52/Coursera_Capstone/blob/main/Neighborhoods_in_Toronto.ipynb\" target=\"_parent\"><img src=\"https://colab.research.google.com/assets/colab-badge.svg\" alt=\"Open In Colab\"/></a>"
      ]
    },
    {
      "cell_type": "code",
      "metadata": {
        "id": "2bTcyU518hKH"
      },
      "source": [
        "import pandas as pd\r\n",
        "import numpy as np\r\n",
        "import matplotlib.pyplot as plt\r\n",
        "from unicodedata import normalize\r\n",
        "\r\n",
        "table= pd.read_html('https://en.wikipedia.org/wiki/List_of_postal_codes_of_Canada:_M')"
      ],
      "execution_count": 1,
      "outputs": []
    },
    {
      "cell_type": "code",
      "metadata": {
        "colab": {
          "base_uri": "https://localhost:8080/",
          "height": 419
        },
        "id": "3os22zag_FIX",
        "outputId": "e4441a2d-5ed0-4063-f0be-35577ecf6285"
      },
      "source": [
        "table[0]"
      ],
      "execution_count": 2,
      "outputs": [
        {
          "output_type": "execute_result",
          "data": {
            "text/html": [
              "<div>\n",
              "<style scoped>\n",
              "    .dataframe tbody tr th:only-of-type {\n",
              "        vertical-align: middle;\n",
              "    }\n",
              "\n",
              "    .dataframe tbody tr th {\n",
              "        vertical-align: top;\n",
              "    }\n",
              "\n",
              "    .dataframe thead th {\n",
              "        text-align: right;\n",
              "    }\n",
              "</style>\n",
              "<table border=\"1\" class=\"dataframe\">\n",
              "  <thead>\n",
              "    <tr style=\"text-align: right;\">\n",
              "      <th></th>\n",
              "      <th>Postal Code</th>\n",
              "      <th>Borough</th>\n",
              "      <th>Neighbourhood</th>\n",
              "    </tr>\n",
              "  </thead>\n",
              "  <tbody>\n",
              "    <tr>\n",
              "      <th>0</th>\n",
              "      <td>M1A</td>\n",
              "      <td>Not assigned</td>\n",
              "      <td>Not assigned</td>\n",
              "    </tr>\n",
              "    <tr>\n",
              "      <th>1</th>\n",
              "      <td>M2A</td>\n",
              "      <td>Not assigned</td>\n",
              "      <td>Not assigned</td>\n",
              "    </tr>\n",
              "    <tr>\n",
              "      <th>2</th>\n",
              "      <td>M3A</td>\n",
              "      <td>North York</td>\n",
              "      <td>Parkwoods</td>\n",
              "    </tr>\n",
              "    <tr>\n",
              "      <th>3</th>\n",
              "      <td>M4A</td>\n",
              "      <td>North York</td>\n",
              "      <td>Victoria Village</td>\n",
              "    </tr>\n",
              "    <tr>\n",
              "      <th>4</th>\n",
              "      <td>M5A</td>\n",
              "      <td>Downtown Toronto</td>\n",
              "      <td>Regent Park, Harbourfront</td>\n",
              "    </tr>\n",
              "    <tr>\n",
              "      <th>...</th>\n",
              "      <td>...</td>\n",
              "      <td>...</td>\n",
              "      <td>...</td>\n",
              "    </tr>\n",
              "    <tr>\n",
              "      <th>175</th>\n",
              "      <td>M5Z</td>\n",
              "      <td>Not assigned</td>\n",
              "      <td>Not assigned</td>\n",
              "    </tr>\n",
              "    <tr>\n",
              "      <th>176</th>\n",
              "      <td>M6Z</td>\n",
              "      <td>Not assigned</td>\n",
              "      <td>Not assigned</td>\n",
              "    </tr>\n",
              "    <tr>\n",
              "      <th>177</th>\n",
              "      <td>M7Z</td>\n",
              "      <td>Not assigned</td>\n",
              "      <td>Not assigned</td>\n",
              "    </tr>\n",
              "    <tr>\n",
              "      <th>178</th>\n",
              "      <td>M8Z</td>\n",
              "      <td>Etobicoke</td>\n",
              "      <td>Mimico NW, The Queensway West, South of Bloor,...</td>\n",
              "    </tr>\n",
              "    <tr>\n",
              "      <th>179</th>\n",
              "      <td>M9Z</td>\n",
              "      <td>Not assigned</td>\n",
              "      <td>Not assigned</td>\n",
              "    </tr>\n",
              "  </tbody>\n",
              "</table>\n",
              "<p>180 rows × 3 columns</p>\n",
              "</div>"
            ],
            "text/plain": [
              "    Postal Code  ...                                      Neighbourhood\n",
              "0           M1A  ...                                       Not assigned\n",
              "1           M2A  ...                                       Not assigned\n",
              "2           M3A  ...                                          Parkwoods\n",
              "3           M4A  ...                                   Victoria Village\n",
              "4           M5A  ...                          Regent Park, Harbourfront\n",
              "..          ...  ...                                                ...\n",
              "175         M5Z  ...                                       Not assigned\n",
              "176         M6Z  ...                                       Not assigned\n",
              "177         M7Z  ...                                       Not assigned\n",
              "178         M8Z  ...  Mimico NW, The Queensway West, South of Bloor,...\n",
              "179         M9Z  ...                                       Not assigned\n",
              "\n",
              "[180 rows x 3 columns]"
            ]
          },
          "metadata": {
            "tags": []
          },
          "execution_count": 2
        }
      ]
    },
    {
      "cell_type": "code",
      "metadata": {
        "colab": {
          "base_uri": "https://localhost:8080/",
          "height": 204
        },
        "id": "dUH5dSij_TKD",
        "outputId": "263c30e9-ba6e-4e05-bf97-da10c5840359"
      },
      "source": [
        "df = table[0]\r\n",
        "df.head()"
      ],
      "execution_count": 3,
      "outputs": [
        {
          "output_type": "execute_result",
          "data": {
            "text/html": [
              "<div>\n",
              "<style scoped>\n",
              "    .dataframe tbody tr th:only-of-type {\n",
              "        vertical-align: middle;\n",
              "    }\n",
              "\n",
              "    .dataframe tbody tr th {\n",
              "        vertical-align: top;\n",
              "    }\n",
              "\n",
              "    .dataframe thead th {\n",
              "        text-align: right;\n",
              "    }\n",
              "</style>\n",
              "<table border=\"1\" class=\"dataframe\">\n",
              "  <thead>\n",
              "    <tr style=\"text-align: right;\">\n",
              "      <th></th>\n",
              "      <th>Postal Code</th>\n",
              "      <th>Borough</th>\n",
              "      <th>Neighbourhood</th>\n",
              "    </tr>\n",
              "  </thead>\n",
              "  <tbody>\n",
              "    <tr>\n",
              "      <th>0</th>\n",
              "      <td>M1A</td>\n",
              "      <td>Not assigned</td>\n",
              "      <td>Not assigned</td>\n",
              "    </tr>\n",
              "    <tr>\n",
              "      <th>1</th>\n",
              "      <td>M2A</td>\n",
              "      <td>Not assigned</td>\n",
              "      <td>Not assigned</td>\n",
              "    </tr>\n",
              "    <tr>\n",
              "      <th>2</th>\n",
              "      <td>M3A</td>\n",
              "      <td>North York</td>\n",
              "      <td>Parkwoods</td>\n",
              "    </tr>\n",
              "    <tr>\n",
              "      <th>3</th>\n",
              "      <td>M4A</td>\n",
              "      <td>North York</td>\n",
              "      <td>Victoria Village</td>\n",
              "    </tr>\n",
              "    <tr>\n",
              "      <th>4</th>\n",
              "      <td>M5A</td>\n",
              "      <td>Downtown Toronto</td>\n",
              "      <td>Regent Park, Harbourfront</td>\n",
              "    </tr>\n",
              "  </tbody>\n",
              "</table>\n",
              "</div>"
            ],
            "text/plain": [
              "  Postal Code           Borough              Neighbourhood\n",
              "0         M1A      Not assigned               Not assigned\n",
              "1         M2A      Not assigned               Not assigned\n",
              "2         M3A        North York                  Parkwoods\n",
              "3         M4A        North York           Victoria Village\n",
              "4         M5A  Downtown Toronto  Regent Park, Harbourfront"
            ]
          },
          "metadata": {
            "tags": []
          },
          "execution_count": 3
        }
      ]
    },
    {
      "cell_type": "code",
      "metadata": {
        "id": "ddFbCpOH_bD1"
      },
      "source": [
        "df.drop(df[df.Borough == 'Not assigned'].index, inplace=True)"
      ],
      "execution_count": 4,
      "outputs": []
    },
    {
      "cell_type": "code",
      "metadata": {
        "colab": {
          "base_uri": "https://localhost:8080/",
          "height": 204
        },
        "id": "w1J_itY__9lj",
        "outputId": "e6a8f296-eb0b-4c42-8647-593129052ab8"
      },
      "source": [
        "df.head()"
      ],
      "execution_count": 5,
      "outputs": [
        {
          "output_type": "execute_result",
          "data": {
            "text/html": [
              "<div>\n",
              "<style scoped>\n",
              "    .dataframe tbody tr th:only-of-type {\n",
              "        vertical-align: middle;\n",
              "    }\n",
              "\n",
              "    .dataframe tbody tr th {\n",
              "        vertical-align: top;\n",
              "    }\n",
              "\n",
              "    .dataframe thead th {\n",
              "        text-align: right;\n",
              "    }\n",
              "</style>\n",
              "<table border=\"1\" class=\"dataframe\">\n",
              "  <thead>\n",
              "    <tr style=\"text-align: right;\">\n",
              "      <th></th>\n",
              "      <th>Postal Code</th>\n",
              "      <th>Borough</th>\n",
              "      <th>Neighbourhood</th>\n",
              "    </tr>\n",
              "  </thead>\n",
              "  <tbody>\n",
              "    <tr>\n",
              "      <th>2</th>\n",
              "      <td>M3A</td>\n",
              "      <td>North York</td>\n",
              "      <td>Parkwoods</td>\n",
              "    </tr>\n",
              "    <tr>\n",
              "      <th>3</th>\n",
              "      <td>M4A</td>\n",
              "      <td>North York</td>\n",
              "      <td>Victoria Village</td>\n",
              "    </tr>\n",
              "    <tr>\n",
              "      <th>4</th>\n",
              "      <td>M5A</td>\n",
              "      <td>Downtown Toronto</td>\n",
              "      <td>Regent Park, Harbourfront</td>\n",
              "    </tr>\n",
              "    <tr>\n",
              "      <th>5</th>\n",
              "      <td>M6A</td>\n",
              "      <td>North York</td>\n",
              "      <td>Lawrence Manor, Lawrence Heights</td>\n",
              "    </tr>\n",
              "    <tr>\n",
              "      <th>6</th>\n",
              "      <td>M7A</td>\n",
              "      <td>Downtown Toronto</td>\n",
              "      <td>Queen's Park, Ontario Provincial Government</td>\n",
              "    </tr>\n",
              "  </tbody>\n",
              "</table>\n",
              "</div>"
            ],
            "text/plain": [
              "  Postal Code           Borough                                Neighbourhood\n",
              "2         M3A        North York                                    Parkwoods\n",
              "3         M4A        North York                             Victoria Village\n",
              "4         M5A  Downtown Toronto                    Regent Park, Harbourfront\n",
              "5         M6A        North York             Lawrence Manor, Lawrence Heights\n",
              "6         M7A  Downtown Toronto  Queen's Park, Ontario Provincial Government"
            ]
          },
          "metadata": {
            "tags": []
          },
          "execution_count": 5
        }
      ]
    },
    {
      "cell_type": "code",
      "metadata": {
        "colab": {
          "base_uri": "https://localhost:8080/"
        },
        "id": "AHOXgqLz__Bz",
        "outputId": "505b6c35-a19e-41cc-d03f-f97b1d2a8824"
      },
      "source": [
        "df.shape"
      ],
      "execution_count": 6,
      "outputs": [
        {
          "output_type": "execute_result",
          "data": {
            "text/plain": [
              "(103, 3)"
            ]
          },
          "metadata": {
            "tags": []
          },
          "execution_count": 6
        }
      ]
    },
    {
      "cell_type": "code",
      "metadata": {
        "id": "CFVyf-EDAXqQ",
        "colab": {
          "base_uri": "https://localhost:8080/"
        },
        "outputId": "9d9ae147-abb8-4ebd-d415-affe2e81cdff"
      },
      "source": [
        "df.groupby('Postal Code')['Neighbourhood'].apply(','.join)"
      ],
      "execution_count": 8,
      "outputs": [
        {
          "output_type": "execute_result",
          "data": {
            "text/plain": [
              "Postal Code\n",
              "M1B                                       Malvern, Rouge\n",
              "M1C               Rouge Hill, Port Union, Highland Creek\n",
              "M1E                    Guildwood, Morningside, West Hill\n",
              "M1G                                               Woburn\n",
              "M1H                                            Cedarbrae\n",
              "                             ...                        \n",
              "M9N                                               Weston\n",
              "M9P                                            Westmount\n",
              "M9R    Kingsview Village, St. Phillips, Martin Grove ...\n",
              "M9V    South Steeles, Silverstone, Humbergate, Jamest...\n",
              "M9W                  Northwest, West Humber - Clairville\n",
              "Name: Neighbourhood, Length: 103, dtype: object"
            ]
          },
          "metadata": {
            "tags": []
          },
          "execution_count": 8
        }
      ]
    },
    {
      "cell_type": "code",
      "metadata": {
        "colab": {
          "base_uri": "https://localhost:8080/"
        },
        "id": "_LzXS_GWMUkm",
        "outputId": "cfd575ef-38f9-4753-b9bb-e639f0a31c42"
      },
      "source": [
        "df.shape"
      ],
      "execution_count": 9,
      "outputs": [
        {
          "output_type": "execute_result",
          "data": {
            "text/plain": [
              "(103, 3)"
            ]
          },
          "metadata": {
            "tags": []
          },
          "execution_count": 9
        }
      ]
    },
    {
      "cell_type": "code",
      "metadata": {
        "id": "snnYe_wcNJfN"
      },
      "source": [
        ""
      ],
      "execution_count": null,
      "outputs": []
    }
  ]
}